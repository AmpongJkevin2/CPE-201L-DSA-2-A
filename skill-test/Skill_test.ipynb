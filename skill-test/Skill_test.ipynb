{
  "nbformat": 4,
  "nbformat_minor": 0,
  "metadata": {
    "colab": {
      "provenance": [],
      "authorship_tag": "ABX9TyNJpM73DlrEkmcfq2yolx2r",
      "include_colab_link": true
    },
    "kernelspec": {
      "name": "python3",
      "display_name": "Python 3"
    },
    "language_info": {
      "name": "python"
    }
  },
  "cells": [
    {
      "cell_type": "markdown",
      "metadata": {
        "id": "view-in-github",
        "colab_type": "text"
      },
      "source": [
        "<a href=\"https://colab.research.google.com/github/AmpongJkevin2/CPE-201L-DSA-2-A/blob/main/Skill_test.ipynb\" target=\"_parent\"><img src=\"https://colab.research.google.com/assets/colab-badge.svg\" alt=\"Open In Colab\"/></a>"
      ]
    },
    {
      "cell_type": "markdown",
      "source": [
        "# LinkedLists"
      ],
      "metadata": {
        "id": "0DmLtL2Pj17v"
      }
    },
    {
      "cell_type": "code",
      "execution_count": 1,
      "metadata": {
        "colab": {
          "base_uri": "https://localhost:8080/"
        },
        "id": "dn5Fy3YXjwfZ",
        "outputId": "7f73403c-c325-44c0-e746-1a8d309deed8"
      },
      "outputs": [
        {
          "output_type": "stream",
          "name": "stdout",
          "text": [
            "J\n",
            "_\n",
            "K\n",
            "E\n",
            "V\n",
            "I\n",
            "N\n",
            " \n",
            "L\n",
            ".\n",
            " \n",
            "A\n",
            "M\n",
            "P\n",
            "O\n",
            "N\n",
            "G\n",
            "results: J -> _ -> K -> E -> V -> I -> N ->   -> L -> . ->   -> A -> M -> P -> O -> N -> G\n"
          ]
        }
      ],
      "source": [
        "class Node:\n",
        "    def __init__(self, data) -> None:\n",
        "        self.data = data\n",
        "        self.next = None\n",
        "\n",
        "\n",
        "class LinkedLists:\n",
        "    def __init__(self) -> None:\n",
        "        self.head = None\n",
        "\n",
        "    def append(self, node: Node):\n",
        "        if self.head is None:\n",
        "            self.head = node\n",
        "            return\n",
        "\n",
        "        current_node = self.head\n",
        "        while current_node.next is not None:\n",
        "            current_node = current_node.next\n",
        "\n",
        "        current_node.next = node\n",
        "\n",
        "    def display(self) -> None:\n",
        "        if self.head is None:\n",
        "            return\n",
        "\n",
        "        current_node = self.head\n",
        "        data_list = []\n",
        "        while current_node:\n",
        "            print(current_node.data)\n",
        "            data_list += current_node.data\n",
        "            current_node = current_node.next\n",
        "\n",
        "        result = \"\"\n",
        "        for index, data in enumerate(data_list):\n",
        "            if len(data_list) > index + 1:\n",
        "                result += f'{data} -> '\n",
        "            else:\n",
        "                result += f'{data}'\n",
        "        print(\"results:\",result)\n",
        "\n",
        "\n",
        "linkedlists = LinkedLists()\n",
        "\n",
        "linkedlists.append(Node('J'))\n",
        "linkedlists.append(Node('_'))\n",
        "linkedlists.append(Node('K'))\n",
        "linkedlists.append(Node('E'))\n",
        "linkedlists.append(Node('V'))\n",
        "linkedlists.append(Node('I'))\n",
        "linkedlists.append(Node('N'))\n",
        "linkedlists.append(Node(' '))\n",
        "linkedlists.append(Node('L'))\n",
        "linkedlists.append(Node('.'))\n",
        "linkedlists.append(Node(' '))\n",
        "linkedlists.append(Node('A'))\n",
        "linkedlists.append(Node('M'))\n",
        "linkedlists.append(Node('P'))\n",
        "linkedlists.append(Node('O'))\n",
        "linkedlists.append(Node('N'))\n",
        "linkedlists.append(Node('G'))\n",
        "\n",
        "linkedlists.display()"
      ]
    },
    {
      "cell_type": "markdown",
      "source": [
        "# Stack"
      ],
      "metadata": {
        "id": "jXMe_3mtkMdX"
      }
    },
    {
      "cell_type": "code",
      "source": [
        "class Stack:\n",
        "    def __init__(self) -> None:\n",
        "        self.stack = []\n",
        "\n",
        "    def append(self, new_data):\n",
        "        self.stack.append(new_data)\n",
        "\n",
        "    def traverse(self):\n",
        "        for data in self.stack:\n",
        "            print(data)\n",
        "\n",
        "    def display(self):\n",
        "        result = \"\"\n",
        "        for data in self.stack:\n",
        "            result += data\n",
        "        print(result)\n",
        "\n",
        "\n",
        "my_stack = Stack()\n",
        "name_list = \"J-KEVIN L. AMPONG\"\n",
        "\n",
        "for char in  name_list:\n",
        "    my_stack.append(char)\n",
        "\n",
        "my_stack.traverse()\n",
        "my_stack.display()"
      ],
      "metadata": {
        "colab": {
          "base_uri": "https://localhost:8080/"
        },
        "id": "n9bIcni5kEce",
        "outputId": "2842abaa-2671-448a-d1d2-8988507492eb"
      },
      "execution_count": 2,
      "outputs": [
        {
          "output_type": "stream",
          "name": "stdout",
          "text": [
            "J\n",
            "-\n",
            "K\n",
            "E\n",
            "V\n",
            "I\n",
            "N\n",
            " \n",
            "L\n",
            ".\n",
            " \n",
            "A\n",
            "M\n",
            "P\n",
            "O\n",
            "N\n",
            "G\n",
            "J-KEVIN L. AMPONG\n"
          ]
        }
      ]
    },
    {
      "cell_type": "markdown",
      "source": [
        "# Array"
      ],
      "metadata": {
        "id": "DIdaFLW5kVLo"
      }
    },
    {
      "cell_type": "code",
      "source": [
        "from array import array\n",
        "\n",
        "full_name = ('J', '-', 'K', 'E', 'V', 'I', 'N', ' ', 'L', '.', ' ', 'A', 'M', 'P', 'O', 'N', 'G')\n",
        "my_array = array('u', ())\n",
        "\n",
        "for char in full_name:\n",
        "    my_array.append(char)\n",
        "\n",
        "combined_char = \"\"\n",
        "for char in my_array:\n",
        "    print(char)\n",
        "    combined_char += char\n",
        "\n",
        "print(\"Combined sequence:\",combined_char)\n"
      ],
      "metadata": {
        "colab": {
          "base_uri": "https://localhost:8080/"
        },
        "id": "aWkMp0MPkVUL",
        "outputId": "14cb4fbd-d51e-4dc4-b47c-b6132acc3068"
      },
      "execution_count": 3,
      "outputs": [
        {
          "output_type": "stream",
          "name": "stdout",
          "text": [
            "J\n",
            "-\n",
            "K\n",
            "E\n",
            "V\n",
            "I\n",
            "N\n",
            " \n",
            "L\n",
            ".\n",
            " \n",
            "A\n",
            "M\n",
            "P\n",
            "O\n",
            "N\n",
            "G\n",
            "Combined sequence: J-KEVIN L. AMPONG\n"
          ]
        }
      ]
    }
  ]
}