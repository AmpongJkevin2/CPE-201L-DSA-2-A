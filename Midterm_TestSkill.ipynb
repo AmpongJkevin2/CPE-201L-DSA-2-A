{
  "nbformat": 4,
  "nbformat_minor": 0,
  "metadata": {
    "colab": {
      "provenance": [],
      "authorship_tag": "ABX9TyMD+j4tSuY+Wc6zcZ6xQTVO",
      "include_colab_link": true
    },
    "kernelspec": {
      "name": "python3",
      "display_name": "Python 3"
    },
    "language_info": {
      "name": "python"
    }
  },
  "cells": [
    {
      "cell_type": "markdown",
      "metadata": {
        "id": "view-in-github",
        "colab_type": "text"
      },
      "source": [
        "<a href=\"https://colab.research.google.com/github/AmpongJkevin2/CPE-201L-DSA-2-A/blob/main/Midterm_TestSkill.ipynb\" target=\"_parent\"><img src=\"https://colab.research.google.com/assets/colab-badge.svg\" alt=\"Open In Colab\"/></a>"
      ]
    },
    {
      "cell_type": "code",
      "source": [
        "class Node:\n",
        "    def __init__(self, data) -> None:\n",
        "        self.data = data\n",
        "        self.next = None\n",
        "\n",
        "\n",
        "class linkedList:\n",
        "    def __init__(self) -> None:\n",
        "        self.head = None\n",
        "\n",
        "    def append(self, data) -> None:\n",
        "        if self.head is None:\n",
        "            self.head = Node(data)\n",
        "            return\n",
        "\n",
        "        current_node = self.head\n",
        "        while current_node.next is not None:\n",
        "            current_node = current_node.next\n",
        "\n",
        "        current_node.next = Node(data)\n",
        "\n",
        "    def delete(self, index = 0) -> None:\n",
        "        if self.head is None:\n",
        "            print(\"linkedList is empty.\")\n",
        "            return\n",
        "\n",
        "        if index == 0 and self.head.next is not None:\n",
        "            self.head = self.head.next\n",
        "\n",
        "        current_node = self.head\n",
        "        previous_node = None\n",
        "        counter = 0\n",
        "        while current_node and counter < index:\n",
        "            previous_node = current_node\n",
        "            current_node = current_node.next\n",
        "            counter += 1\n",
        "\n",
        "        if current_node is None:\n",
        "            print(\"Index is out of bounds.\")\n",
        "            return\n",
        "\n",
        "        previous_node.next = current_node.next\n",
        "\n",
        "\n",
        "    def display(self) -> None:\n",
        "        if self.head is None:\n",
        "            print(\"cannot display since the linkedList is empty.\")\n",
        "            return\n",
        "\n",
        "        current_node = self.head\n",
        "        data_list = []\n",
        "        while current_node:\n",
        "            data_list.append(current_node.data)\n",
        "            current_node = current_node.next\n",
        "\n",
        "        for index, data in enumerate(data_list):\n",
        "            if len(data_list) > index+1:\n",
        "                print(f'{data} ->',end=' ')\n",
        "            else:\n",
        "                print(data)\n",
        "\n",
        "\n",
        "ll = linkedList()\n",
        "\n",
        "# Generate Odd numbers list\n",
        "odd_number = []\n",
        "for odd in range(0,30):\n",
        "    if odd % 2 != 0:\n",
        "        odd_number.append(odd)\n",
        "\n",
        "# append the odd number to the linkedList\n",
        "for odd in odd_number:\n",
        "    ll.append(odd)\n",
        "\n",
        "ll.display()\n",
        "\n",
        "usr_input = input(\"Enter the index to delete: \")\n",
        "ll.delete(int(usr_input))\n",
        "ll.display()\n"
      ],
      "metadata": {
        "colab": {
          "base_uri": "https://localhost:8080/"
        },
        "id": "xTzovKgbUH8H",
        "outputId": "fc82dd01-23f1-466e-a053-008394a2fbe4"
      },
      "execution_count": 4,
      "outputs": [
        {
          "output_type": "stream",
          "name": "stdout",
          "text": [
            "1 -> 3 -> 5 -> 7 -> 9 -> 11 -> 13 -> 15 -> 17 -> 19 -> 21 -> 23 -> 25 -> 27 -> 29\n",
            "Enter the index to delete: 10\n",
            "1 -> 3 -> 5 -> 7 -> 9 -> 11 -> 13 -> 15 -> 17 -> 19 -> 23 -> 25 -> 27 -> 29\n"
          ]
        }
      ]
    }
  ]
}