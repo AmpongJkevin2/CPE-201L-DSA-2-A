{
  "nbformat": 4,
  "nbformat_minor": 0,
  "metadata": {
    "colab": {
      "provenance": [],
      "authorship_tag": "ABX9TyPsfhr77VgJA8FWcmHLHs6S",
      "include_colab_link": true
    },
    "kernelspec": {
      "name": "python3",
      "display_name": "Python 3"
    },
    "language_info": {
      "name": "python"
    }
  },
  "cells": [
    {
      "cell_type": "markdown",
      "metadata": {
        "id": "view-in-github",
        "colab_type": "text"
      },
      "source": [
        "<a href=\"https://colab.research.google.com/github/AmpongJkevin2/CPE-201L-DSA-2-A/blob/main/Activity1.ipynb\" target=\"_parent\"><img src=\"https://colab.research.google.com/assets/colab-badge.svg\" alt=\"Open In Colab\"/></a>"
      ]
    },
    {
      "cell_type": "markdown",
      "source": [
        "# Area of circle using radius"
      ],
      "metadata": {
        "id": "dsDcRW_F1WcH"
      }
    },
    {
      "cell_type": "code",
      "execution_count": 8,
      "metadata": {
        "colab": {
          "base_uri": "https://localhost:8080/"
        },
        "id": "O0y5M2hwzUJk",
        "outputId": "51c106b8-accb-4e57-f3b9-d5c7031d0a71"
      },
      "outputs": [
        {
          "output_type": "stream",
          "name": "stdout",
          "text": [
            "enter the radius: 18\n",
            "Area: 1017.8760197630929\n"
          ]
        }
      ],
      "source": [
        "import math\n",
        "\n",
        "radius = input(\"enter the radius: \")\n",
        "area = math.pi * float(radius)**2\n",
        "print(\"Area:\", area)"
      ]
    },
    {
      "cell_type": "markdown",
      "source": [
        "# Area of circle using diameter"
      ],
      "metadata": {
        "id": "H2BIh5iJ25rI"
      }
    },
    {
      "cell_type": "code",
      "source": [
        "import math\n",
        "\n",
        "diameter = input(\"Enter the diameter: \")\n",
        "area = math.pi * (float(diameter)/2)**2\n",
        "print(\"Area:\", area)"
      ],
      "metadata": {
        "colab": {
          "base_uri": "https://localhost:8080/"
        },
        "id": "QjMsNu3J1OFB",
        "outputId": "2b3b3481-6aac-47e4-e61b-c9d60ba41663"
      },
      "execution_count": 14,
      "outputs": [
        {
          "output_type": "stream",
          "name": "stdout",
          "text": [
            "Enter the diameter: 18\n",
            "Area: 254.46900494077323\n"
          ]
        }
      ]
    }
  ]
}