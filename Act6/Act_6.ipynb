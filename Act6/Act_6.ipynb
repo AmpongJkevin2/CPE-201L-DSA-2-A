{
  "nbformat": 4,
  "nbformat_minor": 0,
  "metadata": {
    "colab": {
      "provenance": []
    },
    "kernelspec": {
      "name": "python3",
      "display_name": "Python 3"
    },
    "language_info": {
      "name": "python"
    }
  },
  "cells": [
    {
      "cell_type": "code",
      "source": [
        "class Node:\n",
        "    def __init__(self, data) -> None:\n",
        "        self.data = data\n",
        "        self.next = None\n",
        "\n",
        "\n",
        "class LinkedList:\n",
        "    def __init__(self) -> None:\n",
        "        self.head = None\n",
        "\n",
        "    def append(self, new_node: Node):\n",
        "        if self.head is None:\n",
        "           self.head = new_node\n",
        "           return\n",
        "\n",
        "        current_node: Node = self.head\n",
        "\n",
        "        while current_node.next is not None:\n",
        "            current_node = current_node.next\n",
        "        current_node.next = new_node\n",
        "\n",
        "    def pop(self, index=None):\n",
        "        counter = 0\n",
        "        if self.head is None:\n",
        "            return\n",
        "\n",
        "        if index == 0 or index is None:\n",
        "            if self.head.next is not None:\n",
        "                self.head = self.head.next\n",
        "            return\n",
        "\n",
        "        current_node:Node = self.head\n",
        "        while current_node is not None and counter < index - 1:\n",
        "            current_node = current_node.next\n",
        "            counter += 1\n",
        "\n",
        "        # If the index is out of bounds or the node is not found\n",
        "        if current_node is None or current_node.next is None:\n",
        "            return None\n",
        "\n",
        "        # Unlink the node\n",
        "        popped_node = current_node.next\n",
        "        current_node.next = popped_node.next\n",
        "        return popped_node.data\n",
        "\n",
        "\n",
        "    def display(self):\n",
        "        current_node = self.head\n",
        "        data_list = []\n",
        "        while current_node:\n",
        "            data_list.append(current_node.data)\n",
        "            current_node = current_node.next\n",
        "\n",
        "        counter = 0\n",
        "        for data in data_list:\n",
        "          counter += 1\n",
        "          if counter == len(data_list):\n",
        "            print(data)\n",
        "          else:\n",
        "            print(data, end=\" <- \")\n",
        "\n",
        "\n",
        "\n",
        "ll = LinkedList()\n",
        "ll.append(Node('a'))\n",
        "ll.append(Node('b'))\n",
        "ll.append(Node('c'))\n",
        "ll.append(Node('d'))\n",
        "\n",
        "ll.pop(1)\n",
        "\n",
        "ll.display()\n"
      ],
      "metadata": {
        "colab": {
          "base_uri": "https://localhost:8080/"
        },
        "id": "S7M2hm2pxMu4",
        "outputId": "a43e2a18-387c-4e99-fb54-18d5a27caadd"
      },
      "execution_count": 28,
      "outputs": [
        {
          "output_type": "stream",
          "name": "stdout",
          "text": [
            "a <- c <- d\n"
          ]
        }
      ]
    }
  ]
}