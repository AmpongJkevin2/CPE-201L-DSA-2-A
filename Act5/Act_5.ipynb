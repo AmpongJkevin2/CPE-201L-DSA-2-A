{
  "nbformat": 4,
  "nbformat_minor": 0,
  "metadata": {
    "colab": {
      "provenance": []
    },
    "kernelspec": {
      "name": "python3",
      "display_name": "Python 3"
    },
    "language_info": {
      "name": "python"
    }
  },
  "cells": [
    {
      "cell_type": "code",
      "execution_count": 2,
      "metadata": {
        "colab": {
          "base_uri": "https://localhost:8080/"
        },
        "id": "rhy3Gbyc3T0v",
        "outputId": "6c952948-485b-420b-f60d-127e39d84006"
      },
      "outputs": [
        {
          "output_type": "stream",
          "name": "stdout",
          "text": [
            "total sum: 5622\n",
            "original array: [1, 2, 3, 4, 5, 6, 7, 8, 9, 10]\n",
            "new array [1, 2, 3, 4, 5, 6, 7, 8, 9, 10, 11, 12, 13, 14, 15, 16]\n",
            "original array [1, 2, 3, 4, 5, 6, 7, 8, 9, 10]\n",
            "result array: [1, 1.5, 2, 3, 4, 5, 6, 7, 8, 9, 10]\n",
            "reverse array: [1, 2, 3, 4, 5]\n",
            "length of array: 5\n"
          ]
        }
      ],
      "source": [
        "# task No.1\n",
        "list_numbers = [342, 343, 21, 43, 42, 23, 32, 32, 432, 4312]\n",
        "total_sum = 0\n",
        "for index in list_numbers:\n",
        "    total_sum += index\n",
        "print('total sum:', total_sum)\n",
        "\n",
        "\n",
        "\n",
        "# task No.2\n",
        "numbers = [1, 2, 3, 4, 5, 6, 7, 8, 9, 10]\n",
        "print('original array:', numbers)\n",
        "new_numbers = [11, 12, 13, 14, 15, 16]\n",
        "for new_element in new_numbers:\n",
        "    numbers.append(new_element)\n",
        "print('new array', numbers)\n",
        "\n",
        "\n",
        "\n",
        "# task no.3\n",
        "numbers = [1, 2, 3, 4, 5, 6, 7, 8, 9, 10]\n",
        "print('original array', numbers)\n",
        "numbers.insert(1, 1.5)\n",
        "print('result array:', numbers)\n",
        "\n",
        "\n",
        "\n",
        "# task No.4\n",
        "numbers = [5, 4, 3, 2, 1]\n",
        "numbers.reverse()\n",
        "print('reverse array:', numbers)\n",
        "\n",
        "\n",
        "\n",
        "# task No.5\n",
        "numbers = [5, 4, 3, 2, 1]\n",
        "print('length of array:', len(numbers))"
      ]
    }
  ]
}