{
  "nbformat": 4,
  "nbformat_minor": 0,
  "metadata": {
    "colab": {
      "provenance": []
    },
    "kernelspec": {
      "name": "python3",
      "display_name": "Python 3"
    },
    "language_info": {
      "name": "python"
    }
  },
  "cells": [
    {
      "cell_type": "code",
      "execution_count": 1,
      "metadata": {
        "colab": {
          "base_uri": "https://localhost:8080/"
        },
        "id": "W9LNa6FIIQ9q",
        "outputId": "44ca275c-0aa9-4226-9f0a-191d7ed86847"
      },
      "outputs": [
        {
          "output_type": "stream",
          "name": "stdout",
          "text": [
            "Total even sum: 186\n"
          ]
        }
      ],
      "source": [
        "number_list = [26,49,98,87,62,75]\n",
        "\n",
        "def even_sum(seq) -> int:\n",
        "  sum = 0\n",
        "  for number in seq:\n",
        "    if number % 2 == 0:\n",
        "      sum += number\n",
        "  return sum\n",
        "\n",
        "print(\"Total even sum:\", even_sum(number_list))"
      ]
    }
  ]
}